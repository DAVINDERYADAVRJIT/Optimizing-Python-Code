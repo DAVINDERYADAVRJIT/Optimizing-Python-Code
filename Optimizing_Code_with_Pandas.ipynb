{
 "cells": [
  {
   "cell_type": "code",
   "execution_count": 2,
   "metadata": {},
   "outputs": [],
   "source": [
    "import pandas as pd\n",
    "import numpy as np\n",
    "import time \n",
    "import os"
   ]
  },
  {
   "cell_type": "markdown",
   "metadata": {},
   "source": [
    "#### My current Working Directory\n"
   ]
  },
  {
   "cell_type": "code",
   "execution_count": 3,
   "metadata": {},
   "outputs": [
    {
     "data": {
      "text/plain": [
       "['F16_FY2018-19_11055560_2018-2019.pdf',\n",
       " 'poker_hand.csv',\n",
       " 'Popular_Baby_Names.csv',\n",
       " 'restaurant_data.csv']"
      ]
     },
     "execution_count": 3,
     "metadata": {},
     "output_type": "execute_result"
    }
   ],
   "source": [
    "os.getcwd()\n",
    "#changing to directory where my file is\n",
    "os.chdir('C:\\\\Users\\\\DAVINDER.YADAV\\\\Desktop\\\\Optimizing_code_with_Pandas')\n",
    "os.listdir()"
   ]
  },
  {
   "cell_type": "code",
   "execution_count": 4,
   "metadata": {},
   "outputs": [
    {
     "name": "stdout",
     "output_type": "stream",
     "text": [
      "14.190090008221318\n",
      "Results from the pandas method calculated in 0.0010256767272949219 seconds\n",
      "14.189522631571649\n",
      "Results from the NumPy method calculated in 0.0009670257568359375 seconds\n"
     ]
    }
   ],
   "source": [
    "poker_hands=pd.read_csv('poker_hand.csv')\n",
    "\n",
    "pd_start_time = time.time()\n",
    "\n",
    "# Calculate the variance using pandas\n",
    "print(poker_hands['R2'].var())\n",
    "\n",
    "# Print the CPU time required to complete the operation \n",
    "print(\"Results from the pandas method calculated in %s seconds\" % (time.time() - pd_start_time))\n",
    "\n",
    "np_start_time = time.time()\n",
    "\n",
    "# Calculate the variance using NumPy\n",
    "print(np.var(poker_hands['R2']))\n",
    "\n",
    "# Print the CPU time required to complete the operation \n",
    "print(\"Results from the NumPy method calculated in %s seconds\" % (time.time() - np_start_time))"
   ]
  },
  {
   "cell_type": "code",
   "execution_count": 5,
   "metadata": {},
   "outputs": [],
   "source": [
    "def method_1(N):\n",
    "    res=0\n",
    "    for i in range(1,(N+1)):\n",
    "        res += i**2\n",
    "    return res\n",
    "def method_2(N):\n",
    "    return (N*(N+1)*(2*N+1))/6"
   ]
  },
  {
   "cell_type": "code",
   "execution_count": 6,
   "metadata": {},
   "outputs": [
    {
     "name": "stdout",
     "output_type": "stream",
     "text": [
      "Results from the first method calculated in 0.397932767868042 seconds\n",
      "3.333338333335e+17\n",
      "Results from the second method calculated in 0.0009982585906982422 seconds\n"
     ]
    }
   ],
   "source": [
    "# Calculate the result of the problem using method_1() and print the time required\n",
    "N = 1000000\n",
    "fm_start_time = time.time()\n",
    "first_method = method_1(N)\n",
    "print(\"Results from the first method calculated in %s seconds\" % (time.time() - fm_start_time))\n",
    "\n",
    "# Calculate the result of the problem using method_2() and print the time required\n",
    "sm_start_time = time.time()\n",
    "second_method = method_2(N)\n",
    "print(second_method)\n",
    "print(\"Results from the second method calculated in %s seconds\" % (time.time() - sm_start_time))"
   ]
  },
  {
   "cell_type": "markdown",
   "metadata": {},
   "source": [
    "### To fetch rows from Pandas Dataframe iloc is more efficient as row level from a sorted data"
   ]
  },
  {
   "cell_type": "code",
   "execution_count": 7,
   "metadata": {},
   "outputs": [
    {
     "name": "stdout",
     "output_type": "stream",
     "text": [
      "     S1  R1  S2  R2  S3  R3  S4  R4  S5  R5  Class\n",
      "0     1  10   1  11   1  13   1  12   1   1      9\n",
      "1     2  11   2  13   2  10   2  12   2   1      9\n",
      "2     3  12   3  11   3  13   3  10   3   1      9\n",
      "3     4  10   4  11   4   1   4  13   4  12      9\n",
      "4     4   1   4  13   4  12   4  11   4  10      9\n",
      "5     1   2   1   4   1   5   1   3   1   6      8\n",
      "6     1   9   1  12   1  10   1  11   1  13      8\n",
      "7     2   1   2   2   2   3   2   4   2   5      8\n",
      "8     3   5   3   6   3   9   3   7   3   8      8\n",
      "9     4   1   4   4   4   2   4   3   4   5      8\n",
      "10    1   1   2   1   3   9   1   5   2   3      1\n",
      "11    2   6   2   1   4  13   2   4   4   9      0\n",
      "12    1  10   4   6   1   2   1   1   3   8      0\n",
      "13    2  13   2   1   4   4   1   5   2  11      0\n",
      "14    3   8   4  12   3   9   4   2   3   2      1\n",
      "15    1   3   4   7   1   5   2   4   4  13      0\n",
      "16    1   4   1   1   1   3   3   5   3   2      4\n",
      "17    3   8   3  12   2   7   2   6   1   2      0\n",
      "18    4   8   1  11   4   6   3   2   4  12      0\n",
      "19    3   7   2   7   4  11   1  12   3   1      1\n",
      "20    1  13   4   8   2   7   2  10   3  13      1\n",
      "21    2   6   2   8   1  11   1   4   3   7      0\n",
      "22    3  10   2  10   4   5   1   2   3   8      1\n",
      "23    2   1   3  13   4   6   1   9   4   1      1\n",
      "24    2  10   2   8   1   8   3   2   2  13      1\n",
      "25    2  13   1   5   4   5   4   8   3   3      1\n",
      "26    3   1   1   5   2   7   3  13   1   1      1\n",
      "27    1   7   1   5   4   8   1   6   2   6      1\n",
      "28    3   7   3   9   2  12   2   5   4   4      0\n",
      "29    2  10   1   1   1  12   4   6   2   8      0\n",
      "..   ..  ..  ..  ..  ..  ..  ..  ..  ..  ..    ...\n",
      "970   2  11   4   2   1   2   4   1   1  11      2\n",
      "971   1  13   4   8   3   1   2   5   1   5      1\n",
      "972   3   9   2   2   3   5   2   8   2   7      0\n",
      "973   3  10   1   9   3   8   3   4   3   5      0\n",
      "974   3  11   4   3   2   8   1  13   4  10      0\n",
      "975   4   3   4   6   2   1   3  11   1   4      0\n",
      "976   4   7   4   4   4  10   4   9   4  12      5\n",
      "977   3   9   1   8   2   7   4   9   2   6      1\n",
      "978   1   9   3  11   2   2   3   7   2  10      0\n",
      "979   4   3   2   8   3   9   3   5   4   7      0\n",
      "980   3   2   4   8   1   7   2  13   3   8      1\n",
      "981   3   6   4   2   3   8   3   9   1   4      0\n",
      "982   4   6   2  13   4  13   4   3   2   5      1\n",
      "983   4   7   2   8   1  11   3   2   1   2      1\n",
      "984   4   1   1  13   1   3   3   7   2   7      1\n",
      "985   4  11   3  10   3   2   2   1   4  12      0\n",
      "986   2   4   3   5   4  12   3   2   4  13      0\n",
      "987   2   7   4   8   1   5   3   2   4  10      0\n",
      "988   4   1   1   8   3  13   4   9   2   1      1\n",
      "989   4   7   1   4   4  12   3   4   1   3      1\n",
      "990   3   9   3   3   3  13   3  11   3   5      5\n",
      "991   2   1   1   3   2   5   3   8   1  12      0\n",
      "992   4   2   3   6   2  11   2  13   1   6      1\n",
      "993   1   8   3  13   2   7   3  10   2  11      0\n",
      "994   1  10   4   7   3  13   4  11   2   3      0\n",
      "995   4   9   1  12   3   9   1   6   1  13      1\n",
      "996   3  11   3  13   1   6   2  11   3   3      1\n",
      "997   3  10   1  13   3   9   2  10   3   4      1\n",
      "998   4   1   2   9   1   8   1   2   1   4      0\n",
      "999   4  11   1  12   1  13   1   3   3   3      1\n",
      "\n",
      "[1000 rows x 11 columns]\n",
      "     S1  R1  S2  R2  S3  R3  S4  R4  S5  R5  Class\n",
      "0     1  10   1  11   1  13   1  12   1   1      9\n",
      "1     2  11   2  13   2  10   2  12   2   1      9\n",
      "2     3  12   3  11   3  13   3  10   3   1      9\n",
      "3     4  10   4  11   4   1   4  13   4  12      9\n",
      "4     4   1   4  13   4  12   4  11   4  10      9\n",
      "5     1   2   1   4   1   5   1   3   1   6      8\n",
      "6     1   9   1  12   1  10   1  11   1  13      8\n",
      "7     2   1   2   2   2   3   2   4   2   5      8\n",
      "8     3   5   3   6   3   9   3   7   3   8      8\n",
      "9     4   1   4   4   4   2   4   3   4   5      8\n",
      "10    1   1   2   1   3   9   1   5   2   3      1\n",
      "11    2   6   2   1   4  13   2   4   4   9      0\n",
      "12    1  10   4   6   1   2   1   1   3   8      0\n",
      "13    2  13   2   1   4   4   1   5   2  11      0\n",
      "14    3   8   4  12   3   9   4   2   3   2      1\n",
      "15    1   3   4   7   1   5   2   4   4  13      0\n",
      "16    1   4   1   1   1   3   3   5   3   2      4\n",
      "17    3   8   3  12   2   7   2   6   1   2      0\n",
      "18    4   8   1  11   4   6   3   2   4  12      0\n",
      "19    3   7   2   7   4  11   1  12   3   1      1\n",
      "20    1  13   4   8   2   7   2  10   3  13      1\n",
      "21    2   6   2   8   1  11   1   4   3   7      0\n",
      "22    3  10   2  10   4   5   1   2   3   8      1\n",
      "23    2   1   3  13   4   6   1   9   4   1      1\n",
      "24    2  10   2   8   1   8   3   2   2  13      1\n",
      "25    2  13   1   5   4   5   4   8   3   3      1\n",
      "26    3   1   1   5   2   7   3  13   1   1      1\n",
      "27    1   7   1   5   4   8   1   6   2   6      1\n",
      "28    3   7   3   9   2  12   2   5   4   4      0\n",
      "29    2  10   1   1   1  12   4   6   2   8      0\n",
      "..   ..  ..  ..  ..  ..  ..  ..  ..  ..  ..    ...\n",
      "970   2  11   4   2   1   2   4   1   1  11      2\n",
      "971   1  13   4   8   3   1   2   5   1   5      1\n",
      "972   3   9   2   2   3   5   2   8   2   7      0\n",
      "973   3  10   1   9   3   8   3   4   3   5      0\n",
      "974   3  11   4   3   2   8   1  13   4  10      0\n",
      "975   4   3   4   6   2   1   3  11   1   4      0\n",
      "976   4   7   4   4   4  10   4   9   4  12      5\n",
      "977   3   9   1   8   2   7   4   9   2   6      1\n",
      "978   1   9   3  11   2   2   3   7   2  10      0\n",
      "979   4   3   2   8   3   9   3   5   4   7      0\n",
      "980   3   2   4   8   1   7   2  13   3   8      1\n",
      "981   3   6   4   2   3   8   3   9   1   4      0\n",
      "982   4   6   2  13   4  13   4   3   2   5      1\n",
      "983   4   7   2   8   1  11   3   2   1   2      1\n",
      "984   4   1   1  13   1   3   3   7   2   7      1\n",
      "985   4  11   3  10   3   2   2   1   4  12      0\n",
      "986   2   4   3   5   4  12   3   2   4  13      0\n",
      "987   2   7   4   8   1   5   3   2   4  10      0\n",
      "988   4   1   1   8   3  13   4   9   2   1      1\n",
      "989   4   7   1   4   4  12   3   4   1   3      1\n",
      "990   3   9   3   3   3  13   3  11   3   5      5\n",
      "991   2   1   1   3   2   5   3   8   1  12      0\n",
      "992   4   2   3   6   2  11   2  13   1   6      1\n",
      "993   1   8   3  13   2   7   3  10   2  11      0\n",
      "994   1  10   4   7   3  13   4  11   2   3      0\n",
      "995   4   9   1  12   3   9   1   6   1  13      1\n",
      "996   3  11   3  13   1   6   2  11   3   3      1\n",
      "997   3  10   1  13   3   9   2  10   3   4      1\n",
      "998   4   1   2   9   1   8   1   2   1   4      0\n",
      "999   4  11   1  12   1  13   1   3   3   3      1\n",
      "\n",
      "[1000 rows x 11 columns]\n",
      "Results from the .loc method calculated in 0.042885541915893555 seconds\n",
      "Results from the .iloc method calculated in 0.009943008422851562 seconds\n"
     ]
    }
   ],
   "source": [
    "# Define the variable that keeps the targeted indices\n",
    "rows = range(0,1000)\n",
    "\n",
    "# Select the rows using the targeted indices and calculate the CPU time\n",
    "loc_start_time = time.time()\n",
    "print(poker_hands.loc[rows])\n",
    "\n",
    "# Select the rows using the targeted column names and calculate the CPU time\n",
    "iloc_start_time = time.time()\n",
    "print(poker_hands.iloc[rows])\n",
    "\n",
    "print(\"Results from the .loc method calculated in %s seconds\" % (time.time() - loc_start_time))\n",
    "print(\"Results from the .iloc method calculated in %s seconds\" % (time.time() - iloc_start_time))"
   ]
  },
  {
   "cell_type": "code",
   "execution_count": 8,
   "metadata": {},
   "outputs": [
    {
     "name": "stdout",
     "output_type": "stream",
     "text": [
      "       S1  R1  S2  R2  S3  R3\n",
      "0       1  10   1  11   1  13\n",
      "1       2  11   2  13   2  10\n",
      "2       3  12   3  11   3  13\n",
      "3       4  10   4  11   4   1\n",
      "4       4   1   4  13   4  12\n",
      "5       1   2   1   4   1   5\n",
      "6       1   9   1  12   1  10\n",
      "7       2   1   2   2   2   3\n",
      "8       3   5   3   6   3   9\n",
      "9       4   1   4   4   4   2\n",
      "10      1   1   2   1   3   9\n",
      "11      2   6   2   1   4  13\n",
      "12      1  10   4   6   1   2\n",
      "13      2  13   2   1   4   4\n",
      "14      3   8   4  12   3   9\n",
      "15      1   3   4   7   1   5\n",
      "16      1   4   1   1   1   3\n",
      "17      3   8   3  12   2   7\n",
      "18      4   8   1  11   4   6\n",
      "19      3   7   2   7   4  11\n",
      "20      1  13   4   8   2   7\n",
      "21      2   6   2   8   1  11\n",
      "22      3  10   2  10   4   5\n",
      "23      2   1   3  13   4   6\n",
      "24      2  10   2   8   1   8\n",
      "25      2  13   1   5   4   5\n",
      "26      3   1   1   5   2   7\n",
      "27      1   7   1   5   4   8\n",
      "28      3   7   3   9   2  12\n",
      "29      2  10   1   1   1  12\n",
      "...    ..  ..  ..  ..  ..  ..\n",
      "24980   4   5   4  13   3  10\n",
      "24981   3   3   1  11   4   2\n",
      "24982   4   1   2   1   1   3\n",
      "24983   3   2   3   1   4  10\n",
      "24984   2   9   3   1   4   5\n",
      "24985   3  10   1   5   3   3\n",
      "24986   2   8   2   5   1  11\n",
      "24987   2  12   3   9   1   4\n",
      "24988   4   8   1   8   1   4\n",
      "24989   4  11   3   2   2  13\n",
      "24990   4  10   2  11   2   9\n",
      "24991   2  11   2   9   4   9\n",
      "24992   4   6   4  10   1   1\n",
      "24993   2   6   2  13   2   5\n",
      "24994   4   7   1  10   2   6\n",
      "24995   2  12   1   2   4   8\n",
      "24996   2  11   1   5   1  10\n",
      "24997   3   7   3  13   2   4\n",
      "24998   1   8   4   1   4  12\n",
      "24999   4  12   3  11   4   4\n",
      "25000   2   8   2  12   4   3\n",
      "25001   2  12   3   5   3   8\n",
      "25002   4  10   2  13   4   5\n",
      "25003   1  12   2   9   2  12\n",
      "25004   3   5   3   7   4  11\n",
      "25005   3   9   2   6   4  11\n",
      "25006   4   1   4  10   3  13\n",
      "25007   2   1   2  10   4   4\n",
      "25008   2  12   4   3   1  10\n",
      "25009   1   7   3  11   3   3\n",
      "\n",
      "[25010 rows x 6 columns]\n",
      "       S1  R1  S2  R2  S3  R3\n",
      "0       1  10   1  11   1  13\n",
      "1       2  11   2  13   2  10\n",
      "2       3  12   3  11   3  13\n",
      "3       4  10   4  11   4   1\n",
      "4       4   1   4  13   4  12\n",
      "5       1   2   1   4   1   5\n",
      "6       1   9   1  12   1  10\n",
      "7       2   1   2   2   2   3\n",
      "8       3   5   3   6   3   9\n",
      "9       4   1   4   4   4   2\n",
      "10      1   1   2   1   3   9\n",
      "11      2   6   2   1   4  13\n",
      "12      1  10   4   6   1   2\n",
      "13      2  13   2   1   4   4\n",
      "14      3   8   4  12   3   9\n",
      "15      1   3   4   7   1   5\n",
      "16      1   4   1   1   1   3\n",
      "17      3   8   3  12   2   7\n",
      "18      4   8   1  11   4   6\n",
      "19      3   7   2   7   4  11\n",
      "20      1  13   4   8   2   7\n",
      "21      2   6   2   8   1  11\n",
      "22      3  10   2  10   4   5\n",
      "23      2   1   3  13   4   6\n",
      "24      2  10   2   8   1   8\n",
      "25      2  13   1   5   4   5\n",
      "26      3   1   1   5   2   7\n",
      "27      1   7   1   5   4   8\n",
      "28      3   7   3   9   2  12\n",
      "29      2  10   1   1   1  12\n",
      "...    ..  ..  ..  ..  ..  ..\n",
      "24980   4   5   4  13   3  10\n",
      "24981   3   3   1  11   4   2\n",
      "24982   4   1   2   1   1   3\n",
      "24983   3   2   3   1   4  10\n",
      "24984   2   9   3   1   4   5\n",
      "24985   3  10   1   5   3   3\n",
      "24986   2   8   2   5   1  11\n",
      "24987   2  12   3   9   1   4\n",
      "24988   4   8   1   8   1   4\n",
      "24989   4  11   3   2   2  13\n",
      "24990   4  10   2  11   2   9\n",
      "24991   2  11   2   9   4   9\n",
      "24992   4   6   4  10   1   1\n",
      "24993   2   6   2  13   2   5\n",
      "24994   4   7   1  10   2   6\n",
      "24995   2  12   1   2   4   8\n",
      "24996   2  11   1   5   1  10\n",
      "24997   3   7   3  13   2   4\n",
      "24998   1   8   4   1   4  12\n",
      "24999   4  12   3  11   4   4\n",
      "25000   2   8   2  12   4   3\n",
      "25001   2  12   3   5   3   8\n",
      "25002   4  10   2  13   4   5\n",
      "25003   1  12   2   9   2  12\n",
      "25004   3   5   3   7   4  11\n",
      "25005   3   9   2   6   4  11\n",
      "25006   4   1   4  10   3  13\n",
      "25007   2   1   2  10   4   4\n",
      "25008   2  12   4   3   1  10\n",
      "25009   1   7   3  11   3   3\n",
      "\n",
      "[25010 rows x 6 columns]\n",
      "Results from the first method calculated in 0.02194356918334961 seconds\n",
      "Results from the second method calculated in 0.012966156005859375 seconds\n"
     ]
    }
   ],
   "source": [
    "# Use .iloc to select the first 6 columns \n",
    "ind_start_time = time.time()\n",
    "print(poker_hands.iloc[:,0:6])\n",
    "# Use simple column selection to select the first 6 columns \n",
    "name_start_time = time.time()\n",
    "print(poker_hands[['S1', 'R1', 'S2', 'R2', 'S3', 'R3']])\n",
    "print(\"Results from the first method calculated in %s seconds\" % (time.time() - ind_start_time))\n",
    "print(\"Results from the second method calculated in %s seconds\" % (time.time() - name_start_time))"
   ]
  },
  {
   "cell_type": "markdown",
   "metadata": {},
   "source": [
    "### Pandas sample function is much faster that numpy.random.randint function"
   ]
  },
  {
   "cell_type": "code",
   "execution_count": 9,
   "metadata": {},
   "outputs": [
    {
     "name": "stdout",
     "output_type": "stream",
     "text": [
      "Results from the first method calculated in 0.00897836685180664 seconds\n",
      "Results from the second method calculated in 0.003989696502685547 seconds\n"
     ]
    }
   ],
   "source": [
    "# Extract number of rows in dataset\n",
    "N=poker_hands.shape[0]\n",
    "\n",
    "# Select and time the selection of the 75% of the dataset's rows\n",
    "rand_start_time = time.time()\n",
    "poker_hands.iloc[np.random.randint(low=0, high=N, size=int(0.75 * N))]\n",
    "print(\"Results from the first method calculated in %s seconds\" % (time.time() - rand_start_time))\n",
    "\n",
    "# Select and time the selection of the 75% of the dataset's rows using sample()\n",
    "samp_start_time = time.time()\n",
    "poker_hands.sample(int(0.75 * N), axis=0, replace = True)\n",
    "print(\"Results from the second method calculated in %s seconds\" % (time.time() - samp_start_time))"
   ]
  },
  {
   "cell_type": "code",
   "execution_count": 10,
   "metadata": {},
   "outputs": [
    {
     "name": "stdout",
     "output_type": "stream",
     "text": [
      "Results from the first method calculated in 0.0009982585906982422 seconds\n",
      "Results from the second method calculated in 0.0009958744049072266 seconds\n"
     ]
    }
   ],
   "source": [
    "# Extract number of columns in dataset\n",
    "D=poker_hands.shape[1]\n",
    "\n",
    "# Select and time the selection of 4 of the dataset's columns using NumPy\n",
    "np_start_time = time.time()\n",
    "poker_hands.iloc[:,np.random.randint(low=0, high=D, size=4)]\n",
    "print(\"Results from the first method calculated in %s seconds\" % (time.time() - np_start_time))\n",
    "\n",
    "# Select and time the selection of 4 of the dataset's columns using pandas\n",
    "pd_start_time = time.time()\n",
    "poker_hands.sample(4, axis=1)\n",
    "print(\"Results from the second method calculated in %s seconds\" % (time.time() - pd_start_time))"
   ]
  },
  {
   "cell_type": "code",
   "execution_count": 11,
   "metadata": {},
   "outputs": [
    {
     "data": {
      "text/html": [
       "<div>\n",
       "<style scoped>\n",
       "    .dataframe tbody tr th:only-of-type {\n",
       "        vertical-align: middle;\n",
       "    }\n",
       "\n",
       "    .dataframe tbody tr th {\n",
       "        vertical-align: top;\n",
       "    }\n",
       "\n",
       "    .dataframe thead th {\n",
       "        text-align: right;\n",
       "    }\n",
       "</style>\n",
       "<table border=\"1\" class=\"dataframe\">\n",
       "  <thead>\n",
       "    <tr style=\"text-align: right;\">\n",
       "      <th></th>\n",
       "      <th>S1</th>\n",
       "      <th>R1</th>\n",
       "      <th>S2</th>\n",
       "      <th>R2</th>\n",
       "      <th>S3</th>\n",
       "      <th>R3</th>\n",
       "      <th>S4</th>\n",
       "      <th>R4</th>\n",
       "      <th>S5</th>\n",
       "      <th>R5</th>\n",
       "      <th>Class</th>\n",
       "    </tr>\n",
       "  </thead>\n",
       "  <tbody>\n",
       "    <tr>\n",
       "      <th>0</th>\n",
       "      <td>1</td>\n",
       "      <td>10</td>\n",
       "      <td>1</td>\n",
       "      <td>11</td>\n",
       "      <td>1</td>\n",
       "      <td>13</td>\n",
       "      <td>1</td>\n",
       "      <td>12</td>\n",
       "      <td>1</td>\n",
       "      <td>1</td>\n",
       "      <td>9</td>\n",
       "    </tr>\n",
       "    <tr>\n",
       "      <th>1</th>\n",
       "      <td>2</td>\n",
       "      <td>11</td>\n",
       "      <td>2</td>\n",
       "      <td>13</td>\n",
       "      <td>2</td>\n",
       "      <td>10</td>\n",
       "      <td>2</td>\n",
       "      <td>12</td>\n",
       "      <td>2</td>\n",
       "      <td>1</td>\n",
       "      <td>9</td>\n",
       "    </tr>\n",
       "    <tr>\n",
       "      <th>2</th>\n",
       "      <td>3</td>\n",
       "      <td>12</td>\n",
       "      <td>3</td>\n",
       "      <td>11</td>\n",
       "      <td>3</td>\n",
       "      <td>13</td>\n",
       "      <td>3</td>\n",
       "      <td>10</td>\n",
       "      <td>3</td>\n",
       "      <td>1</td>\n",
       "      <td>9</td>\n",
       "    </tr>\n",
       "    <tr>\n",
       "      <th>3</th>\n",
       "      <td>4</td>\n",
       "      <td>10</td>\n",
       "      <td>4</td>\n",
       "      <td>11</td>\n",
       "      <td>4</td>\n",
       "      <td>1</td>\n",
       "      <td>4</td>\n",
       "      <td>13</td>\n",
       "      <td>4</td>\n",
       "      <td>12</td>\n",
       "      <td>9</td>\n",
       "    </tr>\n",
       "    <tr>\n",
       "      <th>4</th>\n",
       "      <td>4</td>\n",
       "      <td>1</td>\n",
       "      <td>4</td>\n",
       "      <td>13</td>\n",
       "      <td>4</td>\n",
       "      <td>12</td>\n",
       "      <td>4</td>\n",
       "      <td>11</td>\n",
       "      <td>4</td>\n",
       "      <td>10</td>\n",
       "      <td>9</td>\n",
       "    </tr>\n",
       "  </tbody>\n",
       "</table>\n",
       "</div>"
      ],
      "text/plain": [
       "   S1  R1  S2  R2  S3  R3  S4  R4  S5  R5  Class\n",
       "0   1  10   1  11   1  13   1  12   1   1      9\n",
       "1   2  11   2  13   2  10   2  12   2   1      9\n",
       "2   3  12   3  11   3  13   3  10   3   1      9\n",
       "3   4  10   4  11   4   1   4  13   4  12      9\n",
       "4   4   1   4  13   4  12   4  11   4  10      9"
      ]
     },
     "execution_count": 11,
     "metadata": {},
     "output_type": "execute_result"
    }
   ],
   "source": [
    "poker_hands.head()"
   ]
  },
  {
   "cell_type": "markdown",
   "metadata": {},
   "source": [
    "### Using Replace Function"
   ]
  },
  {
   "cell_type": "code",
   "execution_count": 12,
   "metadata": {},
   "outputs": [
    {
     "name": "stdout",
     "output_type": "stream",
     "text": [
      " 0    12493\n",
      "-2    10599\n",
      "-3     1206\n",
      " 3      513\n",
      " 4       93\n",
      " 5       54\n",
      " 6       36\n",
      " 7        6\n",
      " 9        5\n",
      " 8        5\n",
      "Name: Class, dtype: int64\n"
     ]
    }
   ],
   "source": [
    "# Replace Class 1 to -2 \n",
    "poker_hands['Class'].replace(1, -2, inplace=True)\n",
    "# Replace Class 2 to -3\n",
    "poker_hands['Class'].replace(2, -3, inplace=True)\n",
    "\n",
    "print(poker_hands['Class'].value_counts())"
   ]
  },
  {
   "cell_type": "code",
   "execution_count": 13,
   "metadata": {},
   "outputs": [],
   "source": [
    "names=pd.read_csv('Popular_Baby_Names.csv')"
   ]
  },
  {
   "cell_type": "code",
   "execution_count": 14,
   "metadata": {},
   "outputs": [
    {
     "data": {
      "text/html": [
       "<div>\n",
       "<style scoped>\n",
       "    .dataframe tbody tr th:only-of-type {\n",
       "        vertical-align: middle;\n",
       "    }\n",
       "\n",
       "    .dataframe tbody tr th {\n",
       "        vertical-align: top;\n",
       "    }\n",
       "\n",
       "    .dataframe thead th {\n",
       "        text-align: right;\n",
       "    }\n",
       "</style>\n",
       "<table border=\"1\" class=\"dataframe\">\n",
       "  <thead>\n",
       "    <tr style=\"text-align: right;\">\n",
       "      <th></th>\n",
       "      <th>Year of Birth</th>\n",
       "      <th>Gender</th>\n",
       "      <th>Ethnicity</th>\n",
       "      <th>Child's First Name</th>\n",
       "      <th>Count</th>\n",
       "      <th>Rank</th>\n",
       "    </tr>\n",
       "  </thead>\n",
       "  <tbody>\n",
       "    <tr>\n",
       "      <th>0</th>\n",
       "      <td>2011</td>\n",
       "      <td>FEMALE</td>\n",
       "      <td>ASIAN AND PACIFIC ISLANDER</td>\n",
       "      <td>SOPHIA</td>\n",
       "      <td>119</td>\n",
       "      <td>1</td>\n",
       "    </tr>\n",
       "    <tr>\n",
       "      <th>1</th>\n",
       "      <td>2011</td>\n",
       "      <td>FEMALE</td>\n",
       "      <td>ASIAN AND PACIFIC ISLANDER</td>\n",
       "      <td>CHLOE</td>\n",
       "      <td>106</td>\n",
       "      <td>2</td>\n",
       "    </tr>\n",
       "    <tr>\n",
       "      <th>2</th>\n",
       "      <td>2011</td>\n",
       "      <td>FEMALE</td>\n",
       "      <td>ASIAN AND PACIFIC ISLANDER</td>\n",
       "      <td>EMILY</td>\n",
       "      <td>93</td>\n",
       "      <td>3</td>\n",
       "    </tr>\n",
       "    <tr>\n",
       "      <th>3</th>\n",
       "      <td>2011</td>\n",
       "      <td>FEMALE</td>\n",
       "      <td>ASIAN AND PACIFIC ISLANDER</td>\n",
       "      <td>OLIVIA</td>\n",
       "      <td>89</td>\n",
       "      <td>4</td>\n",
       "    </tr>\n",
       "    <tr>\n",
       "      <th>4</th>\n",
       "      <td>2011</td>\n",
       "      <td>FEMALE</td>\n",
       "      <td>ASIAN AND PACIFIC ISLANDER</td>\n",
       "      <td>EMMA</td>\n",
       "      <td>75</td>\n",
       "      <td>5</td>\n",
       "    </tr>\n",
       "  </tbody>\n",
       "</table>\n",
       "</div>"
      ],
      "text/plain": [
       "   Year of Birth  Gender                   Ethnicity Child's First Name  \\\n",
       "0           2011  FEMALE  ASIAN AND PACIFIC ISLANDER             SOPHIA   \n",
       "1           2011  FEMALE  ASIAN AND PACIFIC ISLANDER              CHLOE   \n",
       "2           2011  FEMALE  ASIAN AND PACIFIC ISLANDER              EMILY   \n",
       "3           2011  FEMALE  ASIAN AND PACIFIC ISLANDER             OLIVIA   \n",
       "4           2011  FEMALE  ASIAN AND PACIFIC ISLANDER               EMMA   \n",
       "\n",
       "   Count  Rank  \n",
       "0    119     1  \n",
       "1    106     2  \n",
       "2     93     3  \n",
       "3     89     4  \n",
       "4     75     5  "
      ]
     },
     "execution_count": 14,
     "metadata": {},
     "output_type": "execute_result"
    }
   ],
   "source": [
    "names.head()"
   ]
  },
  {
   "cell_type": "code",
   "execution_count": 15,
   "metadata": {},
   "outputs": [
    {
     "name": "stdout",
     "output_type": "stream",
     "text": [
      "Results from the first method calculated in 0.07579517364501953 seconds\n",
      "Results from the first method calculated in 0.000997781753540039 seconds\n"
     ]
    },
    {
     "name": "stderr",
     "output_type": "stream",
     "text": [
      "C:\\Users\\DAVINDER.YADAV\\AppData\\Local\\Continuum\\anaconda3\\lib\\site-packages\\pandas\\core\\indexing.py:194: SettingWithCopyWarning: \n",
      "A value is trying to be set on a copy of a slice from a DataFrame\n",
      "\n",
      "See the caveats in the documentation: http://pandas.pydata.org/pandas-docs/stable/indexing.html#indexing-view-versus-copy\n",
      "  self._setitem_with_indexer(indexer, value)\n"
     ]
    }
   ],
   "source": [
    "start_time = time.time()\n",
    "\n",
    "# Replace all the entries that has 'FEMALE' as a gender with 'GIRL'\n",
    "names['Gender'].loc[names.Gender == 'FEMALE'] = 'GIRL'\n",
    "\n",
    "print(\"Results from the first method calculated in %s seconds\" % (time.time() - start_time))\n",
    "start_time = time.time()\n",
    "\n",
    "# Replace all the entries that has 'FEMALE' as a gender with 'GIRL'\n",
    "names['Gender'].replace('FEMALE', 'GIRL', inplace=True)\n",
    "\n",
    "print(\"Results from the first method calculated in %s seconds\" % (time.time() - start_time))"
   ]
  },
  {
   "cell_type": "markdown",
   "metadata": {},
   "source": [
    "### USING REPLACE FUNCTION TO REPLACE MULTIPLE VALUES AT ONCE"
   ]
  },
  {
   "cell_type": "code",
   "execution_count": 16,
   "metadata": {},
   "outputs": [
    {
     "name": "stdout",
     "output_type": "stream",
     "text": [
      "Results from the above operation calculated in 0.05285787582397461 seconds\n",
      "Results from the above operation calculated in 0.000997304916381836 seconds\n"
     ]
    },
    {
     "name": "stderr",
     "output_type": "stream",
     "text": [
      "C:\\Users\\DAVINDER.YADAV\\AppData\\Local\\Continuum\\anaconda3\\lib\\site-packages\\pandas\\core\\indexing.py:194: SettingWithCopyWarning: \n",
      "A value is trying to be set on a copy of a slice from a DataFrame\n",
      "\n",
      "See the caveats in the documentation: http://pandas.pydata.org/pandas-docs/stable/indexing.html#indexing-view-versus-copy\n",
      "  self._setitem_with_indexer(indexer, value)\n"
     ]
    }
   ],
   "source": [
    "start_time = time.time()\n",
    "\n",
    "# Replace all non-Hispanic ethnicities with 'NON HISPANIC'\n",
    "names['Ethnicity'].loc[(names[\"Ethnicity\"] == 'BLACK NON HISP') | \n",
    "                      (names[\"Ethnicity\"] == 'BLACK NON HISPANIC') | \n",
    "                      (names[\"Ethnicity\"] == 'WHITE NON HISP') | \n",
    "                      (names[\"Ethnicity\"] == 'WHITE NON HISPANIC')] = 'NON HISPANIC'\n",
    "\n",
    "print(\"Results from the above operation calculated in %s seconds\" % (time.time() - start_time))\n",
    "start_time = time.time()\n",
    "\n",
    "# Replace all non-Hispanic ethnicities with 'NON HISPANIC'\n",
    "names['Ethnicity'].replace(['BLACK NON HISP', 'BLACK NON HISPANIC', 'WHITE NON HISP' , 'WHITE NON HISPANIC'], 'NON HISPANIC')\n",
    "\n",
    "print(\"Results from the above operation calculated in %s seconds\" % (time.time() - start_time))"
   ]
  },
  {
   "cell_type": "markdown",
   "metadata": {},
   "source": [
    "### Replace multiple values with multiple values"
   ]
  },
  {
   "cell_type": "code",
   "execution_count": 17,
   "metadata": {},
   "outputs": [
    {
     "name": "stdout",
     "output_type": "stream",
     "text": [
      "Results from the above operation calculated in 0.0019931793212890625 seconds\n"
     ]
    }
   ],
   "source": [
    "start_time = time.time()\n",
    "\n",
    "# Replace ethnicities as instructed\n",
    "names['Ethnicity'].replace(['ASIAN AND PACI','BLACK NON HISP', 'WHITE NON HISP'], ['ASIAN AND PACIFIC ISLANDER','BLACK NON HISPANIC','WHITE NON HISPANIC'], inplace=True)\n",
    "\n",
    "print(\"Results from the above operation calculated in %s seconds\" % (time.time() - start_time))"
   ]
  },
  {
   "cell_type": "markdown",
   "metadata": {},
   "source": [
    "## Dictionary replacement is more efficient than normal replace"
   ]
  },
  {
   "cell_type": "code",
   "execution_count": 18,
   "metadata": {},
   "outputs": [
    {
     "name": "stdout",
     "output_type": "stream",
     "text": [
      "   Year of Birth Gender                   Ethnicity Child's First Name  Count  \\\n",
      "0           2011      0  ASIAN AND PACIFIC ISLANDER             SOPHIA    119   \n",
      "1           2011      0  ASIAN AND PACIFIC ISLANDER              CHLOE    106   \n",
      "2           2011      0  ASIAN AND PACIFIC ISLANDER              EMILY     93   \n",
      "3           2011      0  ASIAN AND PACIFIC ISLANDER             OLIVIA     89   \n",
      "4           2011      0  ASIAN AND PACIFIC ISLANDER               EMMA     75   \n",
      "\n",
      "     Rank  \n",
      "0   FIRST  \n",
      "1  SECOND  \n",
      "2   THIRD  \n",
      "3       4  \n",
      "4       5  \n"
     ]
    }
   ],
   "source": [
    "# Replace Royal flush or Straight flush to Flush\n",
    "names.replace({'GIRL':\"0\", 'BOY':\"1\"}, inplace=True)\n",
    "#print(poker_hands['Explanation'].head())\n",
    "names.head(2)\n",
    "# Replace the number rank by a string\n",
    "names['Rank'].replace({1:'FIRST', 2:'SECOND', 3:'THIRD'}, inplace=True)\n",
    "print(names.head())"
   ]
  },
  {
   "cell_type": "markdown",
   "metadata": {},
   "source": [
    "### Replace multiple values using dictionaries"
   ]
  },
  {
   "cell_type": "code",
   "execution_count": 19,
   "metadata": {},
   "outputs": [
    {
     "name": "stdout",
     "output_type": "stream",
     "text": [
      "   Year of Birth Gender                   Ethnicity Child's First Name  Count  \\\n",
      "0           2011      0  ASIAN AND PACIFIC ISLANDER             SOPHIA    119   \n",
      "1           2011      0  ASIAN AND PACIFIC ISLANDER              CHLOE    106   \n",
      "2           2011      0  ASIAN AND PACIFIC ISLANDER              EMILY     93   \n",
      "3           2011      0  ASIAN AND PACIFIC ISLANDER             OLIVIA     89   \n",
      "4           2011      0  ASIAN AND PACIFIC ISLANDER               EMMA     75   \n",
      "\n",
      "           Rank  \n",
      "0         FIRST  \n",
      "1        SECOND  \n",
      "2         THIRD  \n",
      "3  ALMOST MEDAL  \n",
      "4  ALMOST MEDAL  \n"
     ]
    }
   ],
   "source": [
    "# Replace the rank of the first three ranked names to 'MEDAL'\n",
    "names.replace({'Rank': {1:'MEDAL', 2:'MEDAL', 3:'MEDAL'}}, inplace=True)\n",
    "\n",
    "# Replace the rank of the 4th and 5th ranked names to 'ALMOST MEDAL'\n",
    "names.replace({'Rank': {4:'ALMOST MEDAL', 5:'ALMOST MEDAL'}}, inplace=True)\n",
    "print(names.head())"
   ]
  },
  {
   "cell_type": "code",
   "execution_count": 20,
   "metadata": {},
   "outputs": [
    {
     "ename": "NameError",
     "evalue": "name 'poker_hand' is not defined",
     "output_type": "error",
     "traceback": [
      "\u001b[1;31m---------------------------------------------------------------------------\u001b[0m",
      "\u001b[1;31mNameError\u001b[0m                                 Traceback (most recent call last)",
      "\u001b[1;32m<ipython-input-20-b8a83180a42e>\u001b[0m in \u001b[0;36m<module>\u001b[1;34m()\u001b[0m\n\u001b[1;32m----> 1\u001b[1;33m \u001b[0mpoker_hand\u001b[0m\u001b[1;33m.\u001b[0m\u001b[0mhead\u001b[0m\u001b[1;33m(\u001b[0m\u001b[1;33m)\u001b[0m\u001b[1;33m\u001b[0m\u001b[0m\n\u001b[0m",
      "\u001b[1;31mNameError\u001b[0m: name 'poker_hand' is not defined"
     ]
    }
   ],
   "source": [
    "poker_hand.head()"
   ]
  },
  {
   "cell_type": "markdown",
   "metadata": {},
   "source": [
    "## iter rows method"
   ]
  },
  {
   "cell_type": "code",
   "execution_count": 21,
   "metadata": {},
   "outputs": [
    {
     "name": "stdout",
     "output_type": "stream",
     "text": [
      "(0, S1        1\n",
      "R1       10\n",
      "S2        1\n",
      "R2       11\n",
      "S3        1\n",
      "R3       13\n",
      "S4        1\n",
      "R4       12\n",
      "S5        1\n",
      "R5        1\n",
      "Class     9\n",
      "Name: 0, dtype: int64) (1, S1        2\n",
      "R1       11\n",
      "S2        2\n",
      "R2       13\n",
      "S3        2\n",
      "R3       10\n",
      "S4        2\n",
      "R4       12\n",
      "S5        2\n",
      "R5        1\n",
      "Class     9\n",
      "Name: 1, dtype: int64)\n"
     ]
    }
   ],
   "source": [
    "# Create a generator over the rows\n",
    "generator = poker_hands.iterrows()\n",
    "\n",
    "# Access the elements of the 2nd row\n",
    "first_element = next(generator)\n",
    "second_element = next(generator)\n",
    "print(first_element, second_element)"
   ]
  },
  {
   "cell_type": "code",
   "execution_count": 22,
   "metadata": {},
   "outputs": [],
   "source": [
    "data_generator = poker_hands.iterrows()\n",
    "\n",
    "for index, values in data_generator:\n",
    "  \t# Check if index is odd\n",
    "    if index % 2 != 0:\n",
    "      \t# Sum the ranks of all the cards\n",
    "        hand_sum = sum([values[1], values[3], values[5], values[7], values[9]])"
   ]
  },
  {
   "cell_type": "code",
   "execution_count": 23,
   "metadata": {},
   "outputs": [
    {
     "data": {
      "text/plain": [
       "36"
      ]
     },
     "execution_count": 23,
     "metadata": {},
     "output_type": "execute_result"
    }
   ],
   "source": [
    "hand_sum"
   ]
  },
  {
   "cell_type": "code",
   "execution_count": 24,
   "metadata": {},
   "outputs": [
    {
     "ename": "NameError",
     "evalue": "name 'poker_hand' is not defined",
     "output_type": "error",
     "traceback": [
      "\u001b[1;31m---------------------------------------------------------------------------\u001b[0m",
      "\u001b[1;31mNameError\u001b[0m                                 Traceback (most recent call last)",
      "\u001b[1;32m<ipython-input-24-bd651ef79963>\u001b[0m in \u001b[0;36m<module>\u001b[1;34m()\u001b[0m\n\u001b[1;32m----> 1\u001b[1;33m \u001b[0mpoker_hand\u001b[0m\u001b[1;33m.\u001b[0m\u001b[0mtail\u001b[0m\u001b[1;33m(\u001b[0m\u001b[1;33m)\u001b[0m\u001b[1;33m\u001b[0m\u001b[0m\n\u001b[0m",
      "\u001b[1;31mNameError\u001b[0m: name 'poker_hand' is not defined"
     ]
    }
   ],
   "source": [
    "poker_hand.tail()"
   ]
  },
  {
   "cell_type": "code",
   "execution_count": null,
   "metadata": {},
   "outputs": [],
   "source": [
    "# Define the lambda transformation\n",
    "get_square = (lambda x: x**2)\n",
    "\n",
    "# Apply the transformation\n",
    "data_sum = poker_hands.apply(get_square)\n",
    "print(data_sum.head())"
   ]
  },
  {
   "cell_type": "markdown",
   "metadata": {},
   "source": [
    "### Apply funciton using lambda along the rows"
   ]
  },
  {
   "cell_type": "code",
   "execution_count": 25,
   "metadata": {},
   "outputs": [
    {
     "name": "stdout",
     "output_type": "stream",
     "text": [
      "0    18.64\n",
      "1    18.64\n",
      "2    18.64\n",
      "3    18.64\n",
      "4    18.64\n",
      "dtype: float64\n"
     ]
    }
   ],
   "source": [
    "# Define the lambda transformation\n",
    "get_variance = lambda x:np.var(x)\n",
    "\n",
    "# Apply the transformation\n",
    "data_tr = poker_hands[['R1', 'R2', 'R3', 'R4', 'R5']].apply(get_variance, axis=1)\n",
    "print(data_tr.head())"
   ]
  },
  {
   "cell_type": "markdown",
   "metadata": {},
   "source": [
    "### Doing it for each column "
   ]
  },
  {
   "cell_type": "code",
   "execution_count": 26,
   "metadata": {},
   "outputs": [
    {
     "name": "stdout",
     "output_type": "stream",
     "text": [
      "R1    14.060473\n",
      "R2    14.189523\n",
      "R3    14.024270\n",
      "R4    14.040552\n",
      "R5    13.998851\n",
      "dtype: float64\n"
     ]
    }
   ],
   "source": [
    "get_variance = lambda x: np.var(x)\n",
    "\n",
    "# Apply the transformation\n",
    "data_tr = poker_hands[['R1', 'R2', 'R3', 'R4', 'R5']].apply(get_variance, axis=0)\n",
    "print(data_tr.head())"
   ]
  },
  {
   "cell_type": "code",
   "execution_count": 27,
   "metadata": {},
   "outputs": [
    {
     "name": "stdout",
     "output_type": "stream",
     "text": [
      "Results from the above operation calculated in 0.004986286163330078 seconds\n",
      "0    9.4\n",
      "1    9.4\n",
      "2    9.4\n",
      "3    9.4\n",
      "4    9.4\n",
      "dtype: float64\n",
      "Results from the above operation calculated in 0.00400090217590332 seconds\n",
      "R1    6.995242\n",
      "R2    7.014194\n",
      "R3    7.014154\n",
      "R4    6.942463\n",
      "R5    6.962735\n",
      "dtype: float64\n"
     ]
    }
   ],
   "source": [
    "# Calculate the mean rank in each hand\n",
    "start_time = time.time()\n",
    "mean_r = poker_hands[['R1', 'R2', 'R3', 'R4', 'R5']].mean(axis=1)\n",
    "print(\"Results from the above operation calculated in %s seconds\" % (time.time() - start_time))\n",
    "print(mean_r.head())\n",
    "\n",
    "# Calculate the mean rank of each of the 5 card in all hands\n",
    "start_time = time.time()\n",
    "mean_c = poker_hands[['R1', 'R2', 'R3', 'R4', 'R5']].mean(axis=0)\n",
    "print(\"Results from the above operation calculated in %s seconds\" % (time.time() - start_time))\n",
    "print(mean_c.head())"
   ]
  },
  {
   "cell_type": "code",
   "execution_count": 28,
   "metadata": {},
   "outputs": [
    {
     "name": "stdout",
     "output_type": "stream",
     "text": [
      "Results from the above operation calculated in 0.0029938220977783203 seconds\n",
      "0    23.3\n",
      "1    23.3\n",
      "2    23.3\n",
      "3    23.3\n",
      "4    23.3\n",
      "dtype: float64\n"
     ]
    }
   ],
   "source": [
    "# Calculate the variance in each hand\n",
    "start_time = time.time()\n",
    "poker_var = poker_hands[['R1', 'R2','R3','R4','R5']].var(axis=1)\n",
    "print(\"Results from the above operation calculated in %s seconds\" % (time.time() - start_time))\n",
    "print(poker_var.head())"
   ]
  },
  {
   "cell_type": "code",
   "execution_count": 29,
   "metadata": {},
   "outputs": [
    {
     "name": "stdout",
     "output_type": "stream",
     "text": [
      "Results from the above operation calculated in 0.008975982666015625 seconds\n",
      "[23.3 23.3 23.3 23.3 23.3]\n"
     ]
    }
   ],
   "source": [
    "# Calculate the variance in each hand\n",
    "start_time = time.time()\n",
    "poker_var = poker_hands[['R1','R2','R3','R4','R5']].values.var(axis=1, ddof=1)\n",
    "print(\"Results from the above operation calculated in %s seconds\" % (time.time() - start_time))\n",
    "print(poker_var[0:5])"
   ]
  },
  {
   "cell_type": "code",
   "execution_count": 30,
   "metadata": {},
   "outputs": [],
   "source": [
    "restaurant_data=pd.read_csv('restaurant_data.csv')"
   ]
  },
  {
   "cell_type": "code",
   "execution_count": 31,
   "metadata": {},
   "outputs": [
    {
     "name": "stdout",
     "output_type": "stream",
     "text": [
      "   total_bill       tip  size\n",
      "0    0.291579  0.001111   0.2\n",
      "1    0.152283  0.073333   0.4\n",
      "2    0.375786  0.277778   0.4\n",
      "3    0.431713  0.256667   0.2\n",
      "4    0.450775  0.290000   0.6\n"
     ]
    }
   ],
   "source": [
    "# Define the min-max transformation\n",
    "min_max_tr = lambda x: (x - x.min()) / (x.max() - x.min())\n",
    "\n",
    "# Group the data according to the time\n",
    "restaurant_grouped = restaurant_data.groupby('time')\n",
    "\n",
    "# Apply the transformation\n",
    "restaurant_min_max_group = restaurant_grouped.transform(min_max_tr)\n",
    "print(restaurant_min_max_group.head())"
   ]
  },
  {
   "cell_type": "code",
   "execution_count": 32,
   "metadata": {},
   "outputs": [
    {
     "name": "stdout",
     "output_type": "stream",
     "text": [
      "0    0.135141\n",
      "1    0.017986\n",
      "2    0.000060\n",
      "3    0.000108\n",
      "4    0.000042\n",
      "Name: tip, dtype: float64\n"
     ]
    }
   ],
   "source": [
    "# Define the exponential transformation\n",
    "pois_tr = lambda x: np.exp(-x.mean()*x) * x.mean()\n",
    "\n",
    "# Group the data according to the time\n",
    "restaurant_grouped = restaurant_data.groupby('time')\n",
    "\n",
    "# Apply the transformation\n",
    "restaurant_pois_group = restaurant_grouped['tip'].transform(pois_tr)\n",
    "print(restaurant_pois_group.head())"
   ]
  },
  {
   "cell_type": "code",
   "execution_count": 35,
   "metadata": {},
   "outputs": [
    {
     "name": "stdout",
     "output_type": "stream",
     "text": [
      "         S1        R1        S2        R2        S3        R3        S4  \\\n",
      "0 -1.380537  0.270364 -1.380537 -0.730297 -1.380537  0.631224 -1.380537   \n",
      "1 -0.613572  0.495666 -0.613572  1.095445 -0.613572  0.039451 -0.613572   \n",
      "2  0.153393  0.720969  0.153393 -0.730297  0.153393  0.631224  0.153393   \n",
      "3  0.920358  0.270364  0.920358 -0.730297  0.920358 -1.735866  0.920358   \n",
      "4  0.920358 -1.757363  0.920358  1.095445  0.920358  0.433966  0.920358   \n",
      "\n",
      "         R4        S5        R5  \n",
      "0  0.350823 -1.380537 -0.724286  \n",
      "1  0.350823 -0.613572 -0.724286  \n",
      "2 -1.403293  0.153393 -0.724286  \n",
      "3  1.227881  0.920358  1.267500  \n",
      "4 -0.526235  0.920358  0.905357  \n"
     ]
    }
   ],
   "source": [
    "zscore = lambda x: (x - x.mean()) / x.std()\n",
    "poker_grouped=poker_hands.groupby('Class')\n",
    "# Apply the transformation\n",
    "poker_trans = poker_grouped.transform(zscore)\n",
    "print(poker_trans.head())"
   ]
  },
  {
   "cell_type": "code",
   "execution_count": 36,
   "metadata": {},
   "outputs": [
    {
     "name": "stdout",
     "output_type": "stream",
     "text": [
      "        S1   R1   S2   R2   S3   R3   S4   R4   S5   R5\n",
      "Class                                                  \n",
      "-3    -0.0 -0.0 -0.0 -0.0 -0.0  0.0 -0.0  0.0  0.0  0.0\n",
      "-2    -0.0 -0.0  0.0 -0.0  0.0  0.0  0.0  0.0 -0.0  0.0\n",
      " 0     0.0  0.0 -0.0 -0.0 -0.0 -0.0  0.0 -0.0 -0.0 -0.0\n",
      " 3    -0.0  0.0  0.0 -0.0 -0.0 -0.0  0.0 -0.0  0.0 -0.0\n",
      " 4     0.0 -0.0 -0.0 -0.0  0.0 -0.0 -0.0  0.0  0.0  0.0\n",
      " 5    -0.0 -0.0 -0.0  0.0 -0.0  0.0 -0.0 -0.0 -0.0  0.0\n",
      " 6    -0.0 -0.0 -0.0  0.0  0.0 -0.0  0.0  0.0 -0.0  0.0\n",
      " 7     0.0 -0.0 -0.0  0.0 -0.0  0.0  0.0 -0.0 -0.0 -0.0\n",
      " 8    -0.0  0.0 -0.0  0.0 -0.0  0.0 -0.0  0.0 -0.0 -0.0\n",
      " 9     0.0 -0.0  0.0 -0.0  0.0 -0.0  0.0  0.0  0.0 -0.0\n",
      "        S1   R1   S2   R2   S3   R3   S4   R4   S5   R5\n",
      "Class                                                  \n",
      "-3     1.0  1.0  1.0  1.0  1.0  1.0  1.0  1.0  1.0  1.0\n",
      "-2     1.0  1.0  1.0  1.0  1.0  1.0  1.0  1.0  1.0  1.0\n",
      " 0     1.0  1.0  1.0  1.0  1.0  1.0  1.0  1.0  1.0  1.0\n",
      " 3     1.0  1.0  1.0  1.0  1.0  1.0  1.0  1.0  1.0  1.0\n",
      " 4     1.0  1.0  1.0  1.0  1.0  1.0  1.0  1.0  1.0  1.0\n",
      " 5     1.0  1.0  1.0  1.0  1.0  1.0  1.0  1.0  1.0  1.0\n",
      " 6     1.0  1.0  1.0  1.0  1.0  1.0  1.0  1.0  1.0  1.0\n",
      " 7     1.0  1.0  1.0  1.0  1.0  1.0  1.0  1.0  1.0  1.0\n",
      " 8     1.0  1.0  1.0  1.0  1.0  1.0  1.0  1.0  1.0  1.0\n",
      " 9     1.0  1.0  1.0  1.0  1.0  1.0  1.0  1.0  1.0  1.0\n"
     ]
    }
   ],
   "source": [
    "zscore = lambda x: (x - x.mean()) / x.std()\n",
    "\n",
    "# Apply the transformation\n",
    "poker_trans = poker_grouped.transform(zscore)\n",
    "\n",
    "# Re-group the grouped object\n",
    "poker_regrouped = poker_trans.groupby(poker_hands['Class'])\n",
    "\n",
    "# Print each group's means and standard deviation\n",
    "print(np.round(poker_regrouped.mean(), 3))\n",
    "print(poker_regrouped.std())"
   ]
  },
  {
   "cell_type": "code",
   "execution_count": 39,
   "metadata": {},
   "outputs": [
    {
     "data": {
      "text/plain": [
       "total_bill    0\n",
       "tip           0\n",
       "sex           0\n",
       "smoker        0\n",
       "day           0\n",
       "time          0\n",
       "size          0\n",
       "dtype: int64"
      ]
     },
     "execution_count": 39,
     "metadata": {},
     "output_type": "execute_result"
    }
   ],
   "source": [
    "restaurant_data.isna().sum()"
   ]
  },
  {
   "cell_type": "code",
   "execution_count": 40,
   "metadata": {},
   "outputs": [
    {
     "name": "stdout",
     "output_type": "stream",
     "text": [
      "Number of tables where total_bill is greater than $40: 225\n"
     ]
    }
   ],
   "source": [
    "# Filter the days where the count of total_bill is greater than $40\n",
    "total_bill_40 = restaurant_data.groupby('day').filter(lambda x: x['total_bill'].count() > 40)\n",
    "\n",
    "# Print the number of tables where total_bill is greater than $40\n",
    "print('Number of tables where total_bill is greater than $40:', total_bill_40.shape[0])"
   ]
  },
  {
   "cell_type": "code",
   "execution_count": null,
   "metadata": {},
   "outputs": [],
   "source": []
  }
 ],
 "metadata": {
  "kernelspec": {
   "display_name": "Python 3",
   "language": "python",
   "name": "python3"
  },
  "language_info": {
   "codemirror_mode": {
    "name": "ipython",
    "version": 3
   },
   "file_extension": ".py",
   "mimetype": "text/x-python",
   "name": "python",
   "nbconvert_exporter": "python",
   "pygments_lexer": "ipython3",
   "version": "3.6.4"
  }
 },
 "nbformat": 4,
 "nbformat_minor": 2
}
